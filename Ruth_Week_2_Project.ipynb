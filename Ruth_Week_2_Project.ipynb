{
  "nbformat": 4,
  "nbformat_minor": 0,
  "metadata": {
    "colab": {
      "provenance": []
    },
    "kernelspec": {
      "name": "python3",
      "display_name": "Python 3"
    },
    "language_info": {
      "name": "python"
    }
  },
  "cells": [
    {
      "cell_type": "code",
      "execution_count": 1,
      "metadata": {
        "id": "LXH_4rxGXnVz"
      },
      "outputs": [],
      "source": [
        "%load_ext sql"
      ]
    },
    {
      "cell_type": "code",
      "source": [
        "%sql sqlite:///stud_db.db"
      ],
      "metadata": {
        "id": "VrTsoM-AzgHf"
      },
      "execution_count": 2,
      "outputs": []
    },
    {
      "cell_type": "code",
      "source": [
        "%%sql CREATE TABLE personal_details(\n",
        "    national_ID INT (15) PRIMARY KEY,\n",
        "    stud_ID VARCHAR (15),\n",
        "    stud_name VARCHAR (100),\n",
        "    phone_number VARCHAR (15),\n",
        "    age INT (10),\n",
        "    gender VARCHAR (10)\n",
        ");"
      ],
      "metadata": {
        "colab": {
          "base_uri": "https://localhost:8080/"
        },
        "id": "BP4DjYx00v6F",
        "outputId": "7204f695-ba8d-4ff9-86f4-1b0da5b0f78c"
      },
      "execution_count": 3,
      "outputs": [
        {
          "output_type": "stream",
          "name": "stdout",
          "text": [
            " * sqlite:///stud_db.db\n",
            "Done.\n"
          ]
        },
        {
          "output_type": "execute_result",
          "data": {
            "text/plain": [
              "[]"
            ]
          },
          "metadata": {},
          "execution_count": 3
        }
      ]
    },
    {
      "cell_type": "code",
      "source": [
        "%%sql INSERT INTO personal_details (national_ID, stud_ID, stud_name, phone_number, age, gender) VALUES\n",
        "(\"344534\",\"stud101\",\"Hermione Granger\" ,\"0712345678\",20,\"Male\"),\n",
        "(\"379683\",\"stud102\",\"Draco Malfo\" ,\"0723456781\",21,\"Female\"),\n",
        "(\"347403\",\"stud103\",\"Jayden Wamashati\" ,\"0734567812\",22,\"Male\"),\n",
        "(\"377302\",\"stud104\",\"Ron Weasley\" ,\"0745678123\",19,\"Female\"),\n",
        "(\"336741\",\"stud105\",\"Dolores Umbridge\" ,\"0756781234\",21,\"Male\"),\n",
        "(\"307243\",\"stud106\",\"Hedwig Tonks\" ,\"0767812345\",21,\"Female\"),\n",
        "(\"310932\",\"stud107\",\"Chao Chang\" ,\"0778123456\",22,\"Male\"),\n",
        "(\"343920\",\"stud108\",\"Curfew Yaeitpm\" ,\"0781234567\",20,\"Female\"),\n",
        "(\"345261\",\"stud109\",\"Chaptr Mukenya\" ,\"0722345678\",20,\"Male\"),\n",
        "(\"339152\",\"stud110\",\"Natalie Mpema\" ,\"0733456781\",21,\"Female\"),\n",
        "(\"339746\",\"stud111\",\"Crew Nundi\" ,\"0744567812\",20,\"Male\"),\n",
        "(\"336373\",\"stud112\",\"Bandi Kagunda\" ,\"0755678123\",22,\"Female\"),\n",
        "(\"325252\",\"stud113\",\"Testimony Omolo\" ,\"0766456781\",21,\"Male\"),\n",
        "(\"321746\",\"stud114\",\"Career Mpya\" ,\"0741367812\",20,\"Male\"),\n",
        "(\"390234\",\"stud115\",\"Deamon Anduro\" ,\"0744421123\",22,\"Female\");"
      ],
      "metadata": {
        "colab": {
          "base_uri": "https://localhost:8080/"
        },
        "id": "CXMI4VRH1qe_",
        "outputId": "f4c03e6d-2c8b-4c29-f18b-573036326baa"
      },
      "execution_count": 4,
      "outputs": [
        {
          "output_type": "stream",
          "name": "stdout",
          "text": [
            " * sqlite:///stud_db.db\n",
            "15 rows affected.\n"
          ]
        },
        {
          "output_type": "execute_result",
          "data": {
            "text/plain": [
              "[]"
            ]
          },
          "metadata": {},
          "execution_count": 4
        }
      ]
    },
    {
      "cell_type": "code",
      "source": [
        "%%sql CREATE TABLE school_details (\n",
        "    stud_ID VARCHAR (15) PRIMARY KEY,\n",
        "    current_home_county VARCHAR (20),\n",
        "    secondary_school_county VARCHAR (20),\n",
        "    residence VARCHAR (15),\n",
        "    stud_email VARCHAR (50)\n",
        ");"
      ],
      "metadata": {
        "colab": {
          "base_uri": "https://localhost:8080/"
        },
        "id": "j4G8eCsr2OxN",
        "outputId": "2a5d3289-fce0-495b-8c2b-e9835a6f62c4"
      },
      "execution_count": 5,
      "outputs": [
        {
          "output_type": "stream",
          "name": "stdout",
          "text": [
            " * sqlite:///stud_db.db\n",
            "Done.\n"
          ]
        },
        {
          "output_type": "execute_result",
          "data": {
            "text/plain": [
              "[]"
            ]
          },
          "metadata": {},
          "execution_count": 5
        }
      ]
    },
    {
      "cell_type": "code",
      "source": [
        "%%sql insert into school_details (stud_ID)\n",
        "select stud_ID from personal_details;"
      ],
      "metadata": {
        "colab": {
          "base_uri": "https://localhost:8080/"
        },
        "id": "3zgo1-B34KmE",
        "outputId": "27e9cda7-5559-496e-abec-7d3dd26e332b"
      },
      "execution_count": 6,
      "outputs": [
        {
          "output_type": "stream",
          "name": "stdout",
          "text": [
            " * sqlite:///stud_db.db\n",
            "15 rows affected.\n"
          ]
        },
        {
          "output_type": "execute_result",
          "data": {
            "text/plain": [
              "[]"
            ]
          },
          "metadata": {},
          "execution_count": 6
        }
      ]
    },
    {
      "cell_type": "code",
      "source": [
        "%%sql UPDATE school_details\n",
        "SET stud_email = (SELECT REPLACE (stud_name,' ','') || '@zinduaschool.ac'\n",
        "\t\t\t\t\tFROM personal_details\n",
        "\t\t\t\t\tWHERE school_details.stud_ID = personal_details.stud_ID) ;"
      ],
      "metadata": {
        "colab": {
          "base_uri": "https://localhost:8080/"
        },
        "id": "q7KICshz4bwV",
        "outputId": "5e4c1359-1ccc-4630-a39a-8fe1ebe3ca22"
      },
      "execution_count": 7,
      "outputs": [
        {
          "output_type": "stream",
          "name": "stdout",
          "text": [
            " * sqlite:///stud_db.db\n",
            "15 rows affected.\n"
          ]
        },
        {
          "output_type": "execute_result",
          "data": {
            "text/plain": [
              "[]"
            ]
          },
          "metadata": {},
          "execution_count": 7
        }
      ]
    },
    {
      "cell_type": "code",
      "source": [
        "%sql UPDATE school_details SET current_home_county=\"Nakuru\", secondary_school_county=\"Nairobi\", residence=\"In school\" WHERE stud_ID=\"stud101\";"
      ],
      "metadata": {
        "colab": {
          "base_uri": "https://localhost:8080/"
        },
        "id": "7yJaOEl-5PJr",
        "outputId": "1997898b-fd0e-4369-d76d-c5b5588c23e7"
      },
      "execution_count": 8,
      "outputs": [
        {
          "output_type": "stream",
          "name": "stdout",
          "text": [
            " * sqlite:///stud_db.db\n",
            "1 rows affected.\n"
          ]
        },
        {
          "output_type": "execute_result",
          "data": {
            "text/plain": [
              "[]"
            ]
          },
          "metadata": {},
          "execution_count": 8
        }
      ]
    },
    {
      "cell_type": "code",
      "source": [
        "%sql UPDATE school_details SET current_home_county=\"Nairobi\", secondary_school_county=\"Nakuru\", residence=\"In school\" WHERE stud_ID=\"stud102\";"
      ],
      "metadata": {
        "colab": {
          "base_uri": "https://localhost:8080/"
        },
        "id": "4sv2jYt55r_D",
        "outputId": "3b4597f0-47c2-4f6f-f13f-83ed33ff5602"
      },
      "execution_count": 9,
      "outputs": [
        {
          "output_type": "stream",
          "name": "stdout",
          "text": [
            " * sqlite:///stud_db.db\n",
            "1 rows affected.\n"
          ]
        },
        {
          "output_type": "execute_result",
          "data": {
            "text/plain": [
              "[]"
            ]
          },
          "metadata": {},
          "execution_count": 9
        }
      ]
    },
    {
      "cell_type": "code",
      "source": [
        "%sql UPDATE school_details SET current_home_county=\"Samburu\", secondary_school_county=\"Nairobi\", residence=\"Out of school\" WHERE stud_ID=\"stud103\";"
      ],
      "metadata": {
        "colab": {
          "base_uri": "https://localhost:8080/"
        },
        "id": "Hru4T95i5xmK",
        "outputId": "f0b2eec8-5ca8-4402-de08-b09a1078a202"
      },
      "execution_count": 10,
      "outputs": [
        {
          "output_type": "stream",
          "name": "stdout",
          "text": [
            " * sqlite:///stud_db.db\n",
            "1 rows affected.\n"
          ]
        },
        {
          "output_type": "execute_result",
          "data": {
            "text/plain": [
              "[]"
            ]
          },
          "metadata": {},
          "execution_count": 10
        }
      ]
    },
    {
      "cell_type": "code",
      "source": [
        "%sql UPDATE school_details SET current_home_county=\"Kericho\", secondary_school_county=\"Nairobi\", residence=\"In school\" WHERE stud_ID=\"stud104\";"
      ],
      "metadata": {
        "colab": {
          "base_uri": "https://localhost:8080/"
        },
        "id": "cP_93Mk552tT",
        "outputId": "8e4d7ccd-5549-459b-db7d-4b152a8424c5"
      },
      "execution_count": 11,
      "outputs": [
        {
          "output_type": "stream",
          "name": "stdout",
          "text": [
            " * sqlite:///stud_db.db\n",
            "1 rows affected.\n"
          ]
        },
        {
          "output_type": "execute_result",
          "data": {
            "text/plain": [
              "[]"
            ]
          },
          "metadata": {},
          "execution_count": 11
        }
      ]
    },
    {
      "cell_type": "code",
      "source": [
        "%sql UPDATE school_details SET current_home_county=\"Nyamira\", secondary_school_county=\"Nakuru\", residence=\"In school\" WHERE stud_ID=\"stud105\";"
      ],
      "metadata": {
        "colab": {
          "base_uri": "https://localhost:8080/"
        },
        "id": "SJhSElvZ57_C",
        "outputId": "0246ee09-4f16-4e44-8bc3-61651dab648a"
      },
      "execution_count": 12,
      "outputs": [
        {
          "output_type": "stream",
          "name": "stdout",
          "text": [
            " * sqlite:///stud_db.db\n",
            "1 rows affected.\n"
          ]
        },
        {
          "output_type": "execute_result",
          "data": {
            "text/plain": [
              "[]"
            ]
          },
          "metadata": {},
          "execution_count": 12
        }
      ]
    },
    {
      "cell_type": "code",
      "source": [
        "%sql UPDATE school_details SET current_home_county=\"Kisumu\", secondary_school_county=\"Nairobi\", residence=\"Out of school\" WHERE stud_ID=\"stud106\";"
      ],
      "metadata": {
        "colab": {
          "base_uri": "https://localhost:8080/"
        },
        "id": "zwvHC38p6A3C",
        "outputId": "6ad6d0aa-b0e9-48df-fe43-5e4aa97a3b88"
      },
      "execution_count": 13,
      "outputs": [
        {
          "output_type": "stream",
          "name": "stdout",
          "text": [
            " * sqlite:///stud_db.db\n",
            "1 rows affected.\n"
          ]
        },
        {
          "output_type": "execute_result",
          "data": {
            "text/plain": [
              "[]"
            ]
          },
          "metadata": {},
          "execution_count": 13
        }
      ]
    },
    {
      "cell_type": "code",
      "source": [
        "%sql UPDATE school_details SET current_home_county=\"Nakuru\", secondary_school_county=\"Nairobi\", residence=\"Out of school\" WHERE stud_ID=\"stud107\";"
      ],
      "metadata": {
        "colab": {
          "base_uri": "https://localhost:8080/"
        },
        "id": "-GXEtrnW6FK9",
        "outputId": "57095dff-8387-49fd-b1e2-c244142f5998"
      },
      "execution_count": 14,
      "outputs": [
        {
          "output_type": "stream",
          "name": "stdout",
          "text": [
            " * sqlite:///stud_db.db\n",
            "1 rows affected.\n"
          ]
        },
        {
          "output_type": "execute_result",
          "data": {
            "text/plain": [
              "[]"
            ]
          },
          "metadata": {},
          "execution_count": 14
        }
      ]
    },
    {
      "cell_type": "code",
      "source": [
        "%sql UPDATE school_details SET current_home_county=\"Kisumu\", secondary_school_county=\"Mombasa\", residence=\"Out of school\" WHERE stud_ID=\"stud108\";"
      ],
      "metadata": {
        "colab": {
          "base_uri": "https://localhost:8080/"
        },
        "id": "IWq8OpOF6NPN",
        "outputId": "d6985a9a-9bdf-42bb-bd9d-d538fd8c8f6a"
      },
      "execution_count": 15,
      "outputs": [
        {
          "output_type": "stream",
          "name": "stdout",
          "text": [
            " * sqlite:///stud_db.db\n",
            "1 rows affected.\n"
          ]
        },
        {
          "output_type": "execute_result",
          "data": {
            "text/plain": [
              "[]"
            ]
          },
          "metadata": {},
          "execution_count": 15
        }
      ]
    },
    {
      "cell_type": "code",
      "source": [
        "%sql UPDATE school_details SET current_home_county=\"Kericho\", secondary_school_county=\"Mombasa\", residence=\"In school\" WHERE stud_ID=\"stud109\";"
      ],
      "metadata": {
        "colab": {
          "base_uri": "https://localhost:8080/"
        },
        "id": "waM3yR9z6R46",
        "outputId": "fc71a5f0-07f4-4d90-810e-cc82f1d57199"
      },
      "execution_count": 16,
      "outputs": [
        {
          "output_type": "stream",
          "name": "stdout",
          "text": [
            " * sqlite:///stud_db.db\n",
            "1 rows affected.\n"
          ]
        },
        {
          "output_type": "execute_result",
          "data": {
            "text/plain": [
              "[]"
            ]
          },
          "metadata": {},
          "execution_count": 16
        }
      ]
    },
    {
      "cell_type": "code",
      "source": [
        "%sql UPDATE school_details SET current_home_county=\"Nakuru\", secondary_school_county=\"Mombasa\", residence=\"In school\" WHERE stud_ID=\"stud110\";"
      ],
      "metadata": {
        "colab": {
          "base_uri": "https://localhost:8080/"
        },
        "id": "46XQ0baL6Xrq",
        "outputId": "8460ee74-09a7-4b9d-a941-5484b1417b35"
      },
      "execution_count": 17,
      "outputs": [
        {
          "output_type": "stream",
          "name": "stdout",
          "text": [
            " * sqlite:///stud_db.db\n",
            "1 rows affected.\n"
          ]
        },
        {
          "output_type": "execute_result",
          "data": {
            "text/plain": [
              "[]"
            ]
          },
          "metadata": {},
          "execution_count": 17
        }
      ]
    },
    {
      "cell_type": "code",
      "source": [
        "%sql UPDATE school_details SET current_home_county=\"Kiambu\", secondary_school_county=\"Turkana\", residence=\"In school\" WHERE stud_ID=\"stud111\";"
      ],
      "metadata": {
        "colab": {
          "base_uri": "https://localhost:8080/"
        },
        "id": "NCcF0Hpr6cXa",
        "outputId": "6ba33b0f-222c-4fd0-edfa-15cac2d74e96"
      },
      "execution_count": 18,
      "outputs": [
        {
          "output_type": "stream",
          "name": "stdout",
          "text": [
            " * sqlite:///stud_db.db\n",
            "1 rows affected.\n"
          ]
        },
        {
          "output_type": "execute_result",
          "data": {
            "text/plain": [
              "[]"
            ]
          },
          "metadata": {},
          "execution_count": 18
        }
      ]
    },
    {
      "cell_type": "code",
      "source": [
        "%sql UPDATE school_details SET current_home_county=\"Nairobi\", secondary_school_county=\"Nakuru\", residence=\"In school\" WHERE stud_ID=\"stud112\";"
      ],
      "metadata": {
        "colab": {
          "base_uri": "https://localhost:8080/"
        },
        "id": "nAnQ_Be66gRq",
        "outputId": "8bc03668-b489-4e3b-f2ca-f7fbb30b280c"
      },
      "execution_count": 19,
      "outputs": [
        {
          "output_type": "stream",
          "name": "stdout",
          "text": [
            " * sqlite:///stud_db.db\n",
            "1 rows affected.\n"
          ]
        },
        {
          "output_type": "execute_result",
          "data": {
            "text/plain": [
              "[]"
            ]
          },
          "metadata": {},
          "execution_count": 19
        }
      ]
    },
    {
      "cell_type": "code",
      "source": [
        "%sql UPDATE school_details SET current_home_county=\"Samburu\", secondary_school_county=\"Taita Taveta\", residence=\"In school\" WHERE stud_ID=\"stud113\";"
      ],
      "metadata": {
        "colab": {
          "base_uri": "https://localhost:8080/"
        },
        "id": "5oYtbvpH6lHd",
        "outputId": "0aa73b73-aa4b-40f5-c170-899c5aac7c65"
      },
      "execution_count": 20,
      "outputs": [
        {
          "output_type": "stream",
          "name": "stdout",
          "text": [
            " * sqlite:///stud_db.db\n",
            "1 rows affected.\n"
          ]
        },
        {
          "output_type": "execute_result",
          "data": {
            "text/plain": [
              "[]"
            ]
          },
          "metadata": {},
          "execution_count": 20
        }
      ]
    },
    {
      "cell_type": "code",
      "source": [
        "%sql UPDATE school_details SET current_home_county=\"Kericho\", secondary_school_county=\"Nairobi\", residence=\"Out of school\" WHERE stud_ID=\"stud114\";"
      ],
      "metadata": {
        "colab": {
          "base_uri": "https://localhost:8080/"
        },
        "id": "VIiQI7X66po4",
        "outputId": "cf760884-af57-4a11-e924-f523345403a7"
      },
      "execution_count": 21,
      "outputs": [
        {
          "output_type": "stream",
          "name": "stdout",
          "text": [
            " * sqlite:///stud_db.db\n",
            "1 rows affected.\n"
          ]
        },
        {
          "output_type": "execute_result",
          "data": {
            "text/plain": [
              "[]"
            ]
          },
          "metadata": {},
          "execution_count": 21
        }
      ]
    },
    {
      "cell_type": "code",
      "source": [
        "%sql UPDATE school_details SET current_home_county=\"Kiambu\", secondary_school_county=\"Mombasa\", residence=\"In school\" WHERE stud_ID=\"stud115\";"
      ],
      "metadata": {
        "colab": {
          "base_uri": "https://localhost:8080/"
        },
        "id": "q2Jl4PyQ6uRM",
        "outputId": "217b0fb9-e6b8-4331-ffd7-333a5dabe5fc"
      },
      "execution_count": 22,
      "outputs": [
        {
          "output_type": "stream",
          "name": "stdout",
          "text": [
            " * sqlite:///stud_db.db\n",
            "1 rows affected.\n"
          ]
        },
        {
          "output_type": "execute_result",
          "data": {
            "text/plain": [
              "[]"
            ]
          },
          "metadata": {},
          "execution_count": 22
        }
      ]
    },
    {
      "cell_type": "code",
      "source": [
        "%%sql CREATE TABLE contact_details (\n",
        "    stud_email VARCHAR(50) PRIMARY KEY,\n",
        "    phone_number VARCHAR(15),\n",
        "    next_of_kin_name VARCHAR(50),\n",
        "    next_of_kin_relation VARCHAR(10),\n",
        "    next_of_kin_contacts VARCHAR(13)\n",
        "     );"
      ],
      "metadata": {
        "colab": {
          "base_uri": "https://localhost:8080/"
        },
        "id": "R6SaKvWa622a",
        "outputId": "e9f9b426-8a66-4af4-848b-134fd276ed9c"
      },
      "execution_count": 23,
      "outputs": [
        {
          "output_type": "stream",
          "name": "stdout",
          "text": [
            " * sqlite:///stud_db.db\n",
            "Done.\n"
          ]
        },
        {
          "output_type": "execute_result",
          "data": {
            "text/plain": [
              "[]"
            ]
          },
          "metadata": {},
          "execution_count": 23
        }
      ]
    },
    {
      "cell_type": "code",
      "source": [
        "%%sql INSERT INTO contact_details(phone_number, next_of_kin_name,next_of_kin_relation,next_of_kin_contacts)\n",
        "VALUES\n",
        "(\"0712345678\",\"Darius Young\",\"Father\",\"0782382383\"),\n",
        "(\"0723456781\",\"Lucy Nderitu\",\"Mother\",\"0723238983\"),\n",
        "(\"0734567812\",\"Jerotich Koech\",\"Mother\",\"0779343126\"),\n",
        "(\"0745678123\",\"Mwaura Mwangi\",\"Father\",\"0798246347\"),\n",
        "(\"0756781234\",\"Ian Patrick\",\"Father\",\"0711234453\"),\n",
        "(\"0767812345\",\"Lebron James\",\"Father\",\"0765439233\"),\n",
        "(\"0778123456\",\"Magna Carter\",\"Father\",\"0702526243\"),\n",
        "(\"0781234567\",\"Cindy Wayne\",\"Mother\",\"0747282839\"),\n",
        "(\"0722345678\",\"Farah Maalim\",\"Mother\",\"0753927482\"),\n",
        "(\"0733456781\",\"Faiba Mbugua\",\"Father\",\"0713245748\"),\n",
        "(\"0744567812\",\"John Doe\",\"Father\",\"0725737383\"),\n",
        "(\"0755678123\",\"Klaus Michealson\",\"Father\",\"0789346276\"),\n",
        "(\"0766456781\",\"Suluhu Amdany\",\"Mother\",\"0785739259\"),\n",
        "(\"0741367812\",\"Daisy Auma\",\"Mother\",\"0791344537\"),\n",
        "(\"0755421123\",\"Getrude Karen\",\"Mother\",\"0765748244\");"
      ],
      "metadata": {
        "colab": {
          "base_uri": "https://localhost:8080/"
        },
        "id": "bZrD7Wr77HQF",
        "outputId": "16e322a7-0719-4a0f-a2e4-3e97bb57064c"
      },
      "execution_count": 24,
      "outputs": [
        {
          "output_type": "stream",
          "name": "stdout",
          "text": [
            " * sqlite:///stud_db.db\n",
            "15 rows affected.\n"
          ]
        },
        {
          "output_type": "execute_result",
          "data": {
            "text/plain": [
              "[]"
            ]
          },
          "metadata": {},
          "execution_count": 24
        }
      ]
    },
    {
      "cell_type": "code",
      "source": [
        "%%sql UPDATE contact_details\n",
        "SET stud_email = (SELECT school_details.stud_email\n",
        "\t\t\t\t\tFROM school_details, personal_details\n",
        "\t\t\t\t\tWHERE school_details.stud_ID = personal_details.stud_ID\n",
        "          AND personal_details.phone_number = contact_details.phone_number) ;"
      ],
      "metadata": {
        "colab": {
          "base_uri": "https://localhost:8080/"
        },
        "id": "_a_bwpqZ7cKC",
        "outputId": "36eb05fe-98e6-4cef-ae25-54f63dc7863d"
      },
      "execution_count": 25,
      "outputs": [
        {
          "output_type": "stream",
          "name": "stdout",
          "text": [
            " * sqlite:///stud_db.db\n",
            "15 rows affected.\n"
          ]
        },
        {
          "output_type": "execute_result",
          "data": {
            "text/plain": [
              "[]"
            ]
          },
          "metadata": {},
          "execution_count": 25
        }
      ]
    },
    {
      "cell_type": "code",
      "source": [
        "%%sql CREATE TABLE financial_details (\n",
        "    stud_ID VARCHAR(15) PRIMARY KEY,\n",
        "    stud_name VARCHAR(50) ,\n",
        "sem_fee INTEGER(6) ,\n",
        "fee_paid INTEGER(6)\n",
        ");"
      ],
      "metadata": {
        "colab": {
          "base_uri": "https://localhost:8080/"
        },
        "id": "LGL9MkdL_Mm0",
        "outputId": "cac1dbdb-2b6e-48a1-e7d8-a9d80a216454"
      },
      "execution_count": 26,
      "outputs": [
        {
          "output_type": "stream",
          "name": "stdout",
          "text": [
            " * sqlite:///stud_db.db\n",
            "Done.\n"
          ]
        },
        {
          "output_type": "execute_result",
          "data": {
            "text/plain": [
              "[]"
            ]
          },
          "metadata": {},
          "execution_count": 26
        }
      ]
    },
    {
      "cell_type": "code",
      "source": [
        "%%sql INSERT INTO financial_details(stud_ID,stud_name)\n",
        "SELECT personal_details.stud_ID, personal_details.stud_name\n",
        "FROM personal_details;"
      ],
      "metadata": {
        "colab": {
          "base_uri": "https://localhost:8080/"
        },
        "id": "3eoGzBU9_ppa",
        "outputId": "b83cfa6b-7187-4459-bde9-925474f577f2"
      },
      "execution_count": 27,
      "outputs": [
        {
          "output_type": "stream",
          "name": "stdout",
          "text": [
            " * sqlite:///stud_db.db\n",
            "15 rows affected.\n"
          ]
        },
        {
          "output_type": "execute_result",
          "data": {
            "text/plain": [
              "[]"
            ]
          },
          "metadata": {},
          "execution_count": 27
        }
      ]
    },
    {
      "cell_type": "code",
      "source": [
        "%%sql UPDATE financial_details SET sem_fee = 25000, fee_paid=25000 WHERE stud_ID = \"stud101\";"
      ],
      "metadata": {
        "colab": {
          "base_uri": "https://localhost:8080/"
        },
        "id": "gX_tOG3e_3hT",
        "outputId": "1788aeda-078d-4b2d-8bf0-00ca3b071c2d"
      },
      "execution_count": 28,
      "outputs": [
        {
          "output_type": "stream",
          "name": "stdout",
          "text": [
            " * sqlite:///stud_db.db\n",
            "1 rows affected.\n"
          ]
        },
        {
          "output_type": "execute_result",
          "data": {
            "text/plain": [
              "[]"
            ]
          },
          "metadata": {},
          "execution_count": 28
        }
      ]
    },
    {
      "cell_type": "code",
      "source": [
        "%%sql UPDATE financial_details SET sem_fee= 25000, fee_paid=19000 WHERE stud_ID = \"stud102\";"
      ],
      "metadata": {
        "colab": {
          "base_uri": "https://localhost:8080/"
        },
        "id": "cMUPiOJz_8ih",
        "outputId": "ae1648fd-f243-4c7e-b5ce-6b13a36faba9"
      },
      "execution_count": 29,
      "outputs": [
        {
          "output_type": "stream",
          "name": "stdout",
          "text": [
            " * sqlite:///stud_db.db\n",
            "1 rows affected.\n"
          ]
        },
        {
          "output_type": "execute_result",
          "data": {
            "text/plain": [
              "[]"
            ]
          },
          "metadata": {},
          "execution_count": 29
        }
      ]
    },
    {
      "cell_type": "code",
      "source": [
        "%%sql UPDATE financial_details SET sem_fee= 21900, fee_paid=20000 WHERE stud_ID = \"stud103\";"
      ],
      "metadata": {
        "colab": {
          "base_uri": "https://localhost:8080/"
        },
        "id": "UtIpviLCABWw",
        "outputId": "59855567-7761-4bbc-f005-df94b29e3409"
      },
      "execution_count": 30,
      "outputs": [
        {
          "output_type": "stream",
          "name": "stdout",
          "text": [
            " * sqlite:///stud_db.db\n",
            "1 rows affected.\n"
          ]
        },
        {
          "output_type": "execute_result",
          "data": {
            "text/plain": [
              "[]"
            ]
          },
          "metadata": {},
          "execution_count": 30
        }
      ]
    },
    {
      "cell_type": "code",
      "source": [
        "%%sql UPDATE financial_details SET sem_fee= 22000, fee_paid=22000 WHERE stud_ID = \"stud104\";"
      ],
      "metadata": {
        "colab": {
          "base_uri": "https://localhost:8080/"
        },
        "id": "dqEm35QDAE6p",
        "outputId": "4700cb0a-61ee-4428-ef7c-95cf16942a3a"
      },
      "execution_count": 31,
      "outputs": [
        {
          "output_type": "stream",
          "name": "stdout",
          "text": [
            " * sqlite:///stud_db.db\n",
            "1 rows affected.\n"
          ]
        },
        {
          "output_type": "execute_result",
          "data": {
            "text/plain": [
              "[]"
            ]
          },
          "metadata": {},
          "execution_count": 31
        }
      ]
    },
    {
      "cell_type": "code",
      "source": [
        "%sql UPDATE financial_details SET sem_fee= 25000, fee_paid=23400 WHERE stud_ID = \"stud105\";"
      ],
      "metadata": {
        "colab": {
          "base_uri": "https://localhost:8080/"
        },
        "id": "F7QmpI31AI86",
        "outputId": "499b6187-77db-4632-a0b5-aefc228cf3ba"
      },
      "execution_count": 32,
      "outputs": [
        {
          "output_type": "stream",
          "name": "stdout",
          "text": [
            " * sqlite:///stud_db.db\n",
            "1 rows affected.\n"
          ]
        },
        {
          "output_type": "execute_result",
          "data": {
            "text/plain": [
              "[]"
            ]
          },
          "metadata": {},
          "execution_count": 32
        }
      ]
    },
    {
      "cell_type": "code",
      "source": [
        "%sql UPDATE financial_details SET sem_fee= 25000, fee_paid=27000 WHERE stud_ID = \"stud106\";"
      ],
      "metadata": {
        "colab": {
          "base_uri": "https://localhost:8080/"
        },
        "id": "tW50xxtCAOtQ",
        "outputId": "fa60575b-226e-4754-e3eb-1189aca7aa22"
      },
      "execution_count": 33,
      "outputs": [
        {
          "output_type": "stream",
          "name": "stdout",
          "text": [
            " * sqlite:///stud_db.db\n",
            "1 rows affected.\n"
          ]
        },
        {
          "output_type": "execute_result",
          "data": {
            "text/plain": [
              "[]"
            ]
          },
          "metadata": {},
          "execution_count": 33
        }
      ]
    },
    {
      "cell_type": "code",
      "source": [
        "%sql UPDATE financial_details SET sem_fee= 24230, fee_paid=21200 WHERE stud_ID = \"stud107\";"
      ],
      "metadata": {
        "colab": {
          "base_uri": "https://localhost:8080/"
        },
        "id": "yQXi0KKiASrI",
        "outputId": "96f8edb0-276e-48b9-f065-d0c4528d1f71"
      },
      "execution_count": 34,
      "outputs": [
        {
          "output_type": "stream",
          "name": "stdout",
          "text": [
            " * sqlite:///stud_db.db\n",
            "1 rows affected.\n"
          ]
        },
        {
          "output_type": "execute_result",
          "data": {
            "text/plain": [
              "[]"
            ]
          },
          "metadata": {},
          "execution_count": 34
        }
      ]
    },
    {
      "cell_type": "code",
      "source": [
        "%sql UPDATE financial_details SET sem_fee= 25000, fee_paid=23500 WHERE stud_ID = \"stud108\";"
      ],
      "metadata": {
        "colab": {
          "base_uri": "https://localhost:8080/"
        },
        "id": "ZR0x2p_3AWZg",
        "outputId": "51e26d83-8e3b-41cf-dc06-e71530cff8f9"
      },
      "execution_count": 35,
      "outputs": [
        {
          "output_type": "stream",
          "name": "stdout",
          "text": [
            " * sqlite:///stud_db.db\n",
            "1 rows affected.\n"
          ]
        },
        {
          "output_type": "execute_result",
          "data": {
            "text/plain": [
              "[]"
            ]
          },
          "metadata": {},
          "execution_count": 35
        }
      ]
    },
    {
      "cell_type": "code",
      "source": [
        "%sql UPDATE financial_details SET sem_fee= 25000, fee_paid=24500 WHERE stud_ID = \"stud109\";"
      ],
      "metadata": {
        "colab": {
          "base_uri": "https://localhost:8080/"
        },
        "id": "1etoZ21YAaqJ",
        "outputId": "59ef29e3-6d05-4f27-ae93-cf9d434beea4"
      },
      "execution_count": 36,
      "outputs": [
        {
          "output_type": "stream",
          "name": "stdout",
          "text": [
            " * sqlite:///stud_db.db\n",
            "1 rows affected.\n"
          ]
        },
        {
          "output_type": "execute_result",
          "data": {
            "text/plain": [
              "[]"
            ]
          },
          "metadata": {},
          "execution_count": 36
        }
      ]
    },
    {
      "cell_type": "code",
      "source": [
        "%sql UPDATE financial_details SET sem_fee= 25000, fee_paid=25000 WHERE stud_ID = \"stud110\";"
      ],
      "metadata": {
        "colab": {
          "base_uri": "https://localhost:8080/"
        },
        "id": "gduMK6e2Aewo",
        "outputId": "2222fa34-3614-4d71-de9a-d70ff4951cfc"
      },
      "execution_count": 37,
      "outputs": [
        {
          "output_type": "stream",
          "name": "stdout",
          "text": [
            " * sqlite:///stud_db.db\n",
            "1 rows affected.\n"
          ]
        },
        {
          "output_type": "execute_result",
          "data": {
            "text/plain": [
              "[]"
            ]
          },
          "metadata": {},
          "execution_count": 37
        }
      ]
    },
    {
      "cell_type": "code",
      "source": [
        "%sql UPDATE financial_details SET sem_fee= 26000, fee_paid=26000 WHERE stud_ID = \"stud111\";"
      ],
      "metadata": {
        "colab": {
          "base_uri": "https://localhost:8080/"
        },
        "id": "4nmMXVhaAixI",
        "outputId": "fa864f52-cad1-46ec-b6a8-d66a46b698de"
      },
      "execution_count": 38,
      "outputs": [
        {
          "output_type": "stream",
          "name": "stdout",
          "text": [
            " * sqlite:///stud_db.db\n",
            "1 rows affected.\n"
          ]
        },
        {
          "output_type": "execute_result",
          "data": {
            "text/plain": [
              "[]"
            ]
          },
          "metadata": {},
          "execution_count": 38
        }
      ]
    },
    {
      "cell_type": "code",
      "source": [
        "%sql UPDATE financial_details SET sem_fee= 25000, fee_paid=20900 WHERE stud_ID = \"stud112\";"
      ],
      "metadata": {
        "colab": {
          "base_uri": "https://localhost:8080/"
        },
        "id": "kg8r5Ko9Am06",
        "outputId": "9e6adbc7-4424-4f5b-8e1b-706410a60072"
      },
      "execution_count": 39,
      "outputs": [
        {
          "output_type": "stream",
          "name": "stdout",
          "text": [
            " * sqlite:///stud_db.db\n",
            "1 rows affected.\n"
          ]
        },
        {
          "output_type": "execute_result",
          "data": {
            "text/plain": [
              "[]"
            ]
          },
          "metadata": {},
          "execution_count": 39
        }
      ]
    },
    {
      "cell_type": "code",
      "source": [
        "%sql UPDATE financial_details SET sem_fee= 25000, fee_paid=22300 WHERE stud_ID = \"stud113\";"
      ],
      "metadata": {
        "colab": {
          "base_uri": "https://localhost:8080/"
        },
        "id": "lJfSwvLGAqj5",
        "outputId": "afffb6a4-3f62-4862-cbc6-faf06e87710a"
      },
      "execution_count": 40,
      "outputs": [
        {
          "output_type": "stream",
          "name": "stdout",
          "text": [
            " * sqlite:///stud_db.db\n",
            "1 rows affected.\n"
          ]
        },
        {
          "output_type": "execute_result",
          "data": {
            "text/plain": [
              "[]"
            ]
          },
          "metadata": {},
          "execution_count": 40
        }
      ]
    },
    {
      "cell_type": "code",
      "source": [
        "%sql UPDATE financial_details SET sem_fee= 19000, fee_paid=19000 WHERE stud_ID = \"stud114\";"
      ],
      "metadata": {
        "colab": {
          "base_uri": "https://localhost:8080/"
        },
        "id": "aD4qXZgKAuai",
        "outputId": "ae7282a4-8433-4358-d53e-ae40eeebc39f"
      },
      "execution_count": 41,
      "outputs": [
        {
          "output_type": "stream",
          "name": "stdout",
          "text": [
            " * sqlite:///stud_db.db\n",
            "1 rows affected.\n"
          ]
        },
        {
          "output_type": "execute_result",
          "data": {
            "text/plain": [
              "[]"
            ]
          },
          "metadata": {},
          "execution_count": 41
        }
      ]
    },
    {
      "cell_type": "code",
      "source": [
        "%sql UPDATE financial_details SET sem_fee= 20800, fee_paid=20800 WHERE stud_ID = \"stud115\";"
      ],
      "metadata": {
        "colab": {
          "base_uri": "https://localhost:8080/"
        },
        "id": "Jxob_jORAzR5",
        "outputId": "35197d95-ebb8-4fa3-80c7-4d90c85c4d28"
      },
      "execution_count": 42,
      "outputs": [
        {
          "output_type": "stream",
          "name": "stdout",
          "text": [
            " * sqlite:///stud_db.db\n",
            "1 rows affected.\n"
          ]
        },
        {
          "output_type": "execute_result",
          "data": {
            "text/plain": [
              "[]"
            ]
          },
          "metadata": {},
          "execution_count": 42
        }
      ]
    },
    {
      "cell_type": "code",
      "source": [
        "%%sql SELECT personal_details.stud_name, school_details.stud_ID, school_details.stud_email, personal_details.phone_number\n",
        "FROM personal_details LEFT JOIN school_details ON personal_details.stud_ID = school_details.stud_ID;"
      ],
      "metadata": {
        "colab": {
          "base_uri": "https://localhost:8080/",
          "height": 386
        },
        "id": "dtEfgiytDsfD",
        "outputId": "1cce45e4-3317-4cdc-ef79-a562408c2625"
      },
      "execution_count": 43,
      "outputs": [
        {
          "output_type": "stream",
          "name": "stdout",
          "text": [
            " * sqlite:///stud_db.db\n",
            "Done.\n"
          ]
        },
        {
          "output_type": "execute_result",
          "data": {
            "text/plain": [
              "[('Hermione Granger', 'stud101', 'HermioneGranger@zinduaschool.ac', '0712345678'),\n",
              " ('Draco Malfo', 'stud102', 'DracoMalfo@zinduaschool.ac', '0723456781'),\n",
              " ('Jayden Wamashati', 'stud103', 'JaydenWamashati@zinduaschool.ac', '0734567812'),\n",
              " ('Ron Weasley', 'stud104', 'RonWeasley@zinduaschool.ac', '0745678123'),\n",
              " ('Dolores Umbridge', 'stud105', 'DoloresUmbridge@zinduaschool.ac', '0756781234'),\n",
              " ('Hedwig Tonks', 'stud106', 'HedwigTonks@zinduaschool.ac', '0767812345'),\n",
              " ('Chao Chang', 'stud107', 'ChaoChang@zinduaschool.ac', '0778123456'),\n",
              " ('Curfew Yaeitpm', 'stud108', 'CurfewYaeitpm@zinduaschool.ac', '0781234567'),\n",
              " ('Chaptr Mukenya', 'stud109', 'ChaptrMukenya@zinduaschool.ac', '0722345678'),\n",
              " ('Natalie Mpema', 'stud110', 'NatalieMpema@zinduaschool.ac', '0733456781'),\n",
              " ('Crew Nundi', 'stud111', 'CrewNundi@zinduaschool.ac', '0744567812'),\n",
              " ('Bandi Kagunda', 'stud112', 'BandiKagunda@zinduaschool.ac', '0755678123'),\n",
              " ('Testimony Omolo', 'stud113', 'TestimonyOmolo@zinduaschool.ac', '0766456781'),\n",
              " ('Career Mpya', 'stud114', 'CareerMpya@zinduaschool.ac', '0741367812'),\n",
              " ('Deamon Anduro', 'stud115', 'DeamonAnduro@zinduaschool.ac', '0744421123')]"
            ],
            "text/html": [
              "<table>\n",
              "    <thead>\n",
              "        <tr>\n",
              "            <th>stud_name</th>\n",
              "            <th>stud_ID</th>\n",
              "            <th>stud_email</th>\n",
              "            <th>phone_number</th>\n",
              "        </tr>\n",
              "    </thead>\n",
              "    <tbody>\n",
              "        <tr>\n",
              "            <td>Hermione Granger</td>\n",
              "            <td>stud101</td>\n",
              "            <td>HermioneGranger@zinduaschool.ac</td>\n",
              "            <td>0712345678</td>\n",
              "        </tr>\n",
              "        <tr>\n",
              "            <td>Draco Malfo</td>\n",
              "            <td>stud102</td>\n",
              "            <td>DracoMalfo@zinduaschool.ac</td>\n",
              "            <td>0723456781</td>\n",
              "        </tr>\n",
              "        <tr>\n",
              "            <td>Jayden Wamashati</td>\n",
              "            <td>stud103</td>\n",
              "            <td>JaydenWamashati@zinduaschool.ac</td>\n",
              "            <td>0734567812</td>\n",
              "        </tr>\n",
              "        <tr>\n",
              "            <td>Ron Weasley</td>\n",
              "            <td>stud104</td>\n",
              "            <td>RonWeasley@zinduaschool.ac</td>\n",
              "            <td>0745678123</td>\n",
              "        </tr>\n",
              "        <tr>\n",
              "            <td>Dolores Umbridge</td>\n",
              "            <td>stud105</td>\n",
              "            <td>DoloresUmbridge@zinduaschool.ac</td>\n",
              "            <td>0756781234</td>\n",
              "        </tr>\n",
              "        <tr>\n",
              "            <td>Hedwig Tonks</td>\n",
              "            <td>stud106</td>\n",
              "            <td>HedwigTonks@zinduaschool.ac</td>\n",
              "            <td>0767812345</td>\n",
              "        </tr>\n",
              "        <tr>\n",
              "            <td>Chao Chang</td>\n",
              "            <td>stud107</td>\n",
              "            <td>ChaoChang@zinduaschool.ac</td>\n",
              "            <td>0778123456</td>\n",
              "        </tr>\n",
              "        <tr>\n",
              "            <td>Curfew Yaeitpm</td>\n",
              "            <td>stud108</td>\n",
              "            <td>CurfewYaeitpm@zinduaschool.ac</td>\n",
              "            <td>0781234567</td>\n",
              "        </tr>\n",
              "        <tr>\n",
              "            <td>Chaptr Mukenya</td>\n",
              "            <td>stud109</td>\n",
              "            <td>ChaptrMukenya@zinduaschool.ac</td>\n",
              "            <td>0722345678</td>\n",
              "        </tr>\n",
              "        <tr>\n",
              "            <td>Natalie Mpema</td>\n",
              "            <td>stud110</td>\n",
              "            <td>NatalieMpema@zinduaschool.ac</td>\n",
              "            <td>0733456781</td>\n",
              "        </tr>\n",
              "        <tr>\n",
              "            <td>Crew Nundi</td>\n",
              "            <td>stud111</td>\n",
              "            <td>CrewNundi@zinduaschool.ac</td>\n",
              "            <td>0744567812</td>\n",
              "        </tr>\n",
              "        <tr>\n",
              "            <td>Bandi Kagunda</td>\n",
              "            <td>stud112</td>\n",
              "            <td>BandiKagunda@zinduaschool.ac</td>\n",
              "            <td>0755678123</td>\n",
              "        </tr>\n",
              "        <tr>\n",
              "            <td>Testimony Omolo</td>\n",
              "            <td>stud113</td>\n",
              "            <td>TestimonyOmolo@zinduaschool.ac</td>\n",
              "            <td>0766456781</td>\n",
              "        </tr>\n",
              "        <tr>\n",
              "            <td>Career Mpya</td>\n",
              "            <td>stud114</td>\n",
              "            <td>CareerMpya@zinduaschool.ac</td>\n",
              "            <td>0741367812</td>\n",
              "        </tr>\n",
              "        <tr>\n",
              "            <td>Deamon Anduro</td>\n",
              "            <td>stud115</td>\n",
              "            <td>DeamonAnduro@zinduaschool.ac</td>\n",
              "            <td>0744421123</td>\n",
              "        </tr>\n",
              "    </tbody>\n",
              "</table>"
            ]
          },
          "metadata": {},
          "execution_count": 43
        }
      ]
    },
    {
      "cell_type": "code",
      "source": [
        "%%sql ALTER TABLE financial_details\n",
        "ADD COLUMN fee_cleared BOOLEAN;"
      ],
      "metadata": {
        "colab": {
          "base_uri": "https://localhost:8080/"
        },
        "id": "sjlMoVboHXSB",
        "outputId": "1af28997-d02b-42ee-954c-74c1ec53a56f"
      },
      "execution_count": 44,
      "outputs": [
        {
          "output_type": "stream",
          "name": "stdout",
          "text": [
            " * sqlite:///stud_db.db\n",
            "Done.\n"
          ]
        },
        {
          "output_type": "execute_result",
          "data": {
            "text/plain": [
              "[]"
            ]
          },
          "metadata": {},
          "execution_count": 44
        }
      ]
    },
    {
      "cell_type": "code",
      "source": [
        "%sql UPDATE financial_details SET fee_cleared = true WHERE stud_ID = \"stud101\";"
      ],
      "metadata": {
        "colab": {
          "base_uri": "https://localhost:8080/"
        },
        "id": "3mtZPMnYd3Tu",
        "outputId": "26191edc-f144-47ea-a8dc-72ae2058fdd1"
      },
      "execution_count": 45,
      "outputs": [
        {
          "output_type": "stream",
          "name": "stdout",
          "text": [
            " * sqlite:///stud_db.db\n",
            "1 rows affected.\n"
          ]
        },
        {
          "output_type": "execute_result",
          "data": {
            "text/plain": [
              "[]"
            ]
          },
          "metadata": {},
          "execution_count": 45
        }
      ]
    },
    {
      "cell_type": "code",
      "source": [
        "%sql UPDATE financial_details SET fee_cleared = true WHERE stud_ID = \"stud104\";"
      ],
      "metadata": {
        "colab": {
          "base_uri": "https://localhost:8080/"
        },
        "id": "fYP1-Gzmdx2D",
        "outputId": "19e939fa-13cf-4018-d002-fc62dafc8942"
      },
      "execution_count": 46,
      "outputs": [
        {
          "output_type": "stream",
          "name": "stdout",
          "text": [
            " * sqlite:///stud_db.db\n",
            "1 rows affected.\n"
          ]
        },
        {
          "output_type": "execute_result",
          "data": {
            "text/plain": [
              "[]"
            ]
          },
          "metadata": {},
          "execution_count": 46
        }
      ]
    },
    {
      "cell_type": "code",
      "source": [
        "%sql UPDATE financial_details SET fee_cleared = true WHERE stud_ID = \"stud106\";"
      ],
      "metadata": {
        "colab": {
          "base_uri": "https://localhost:8080/"
        },
        "id": "1RjNnjbgegn4",
        "outputId": "b045f592-734a-4811-8cbc-0c4d5671b9b9"
      },
      "execution_count": 47,
      "outputs": [
        {
          "output_type": "stream",
          "name": "stdout",
          "text": [
            " * sqlite:///stud_db.db\n",
            "1 rows affected.\n"
          ]
        },
        {
          "output_type": "execute_result",
          "data": {
            "text/plain": [
              "[]"
            ]
          },
          "metadata": {},
          "execution_count": 47
        }
      ]
    },
    {
      "cell_type": "code",
      "source": [
        "%sql UPDATE financial_details SET fee_cleared = true WHERE stud_ID = \"stud110\";"
      ],
      "metadata": {
        "colab": {
          "base_uri": "https://localhost:8080/"
        },
        "id": "SV2zFfoweoko",
        "outputId": "7f0b61b8-47d1-4288-e9bb-2d4d7a72ca7a"
      },
      "execution_count": 48,
      "outputs": [
        {
          "output_type": "stream",
          "name": "stdout",
          "text": [
            " * sqlite:///stud_db.db\n",
            "1 rows affected.\n"
          ]
        },
        {
          "output_type": "execute_result",
          "data": {
            "text/plain": [
              "[]"
            ]
          },
          "metadata": {},
          "execution_count": 48
        }
      ]
    },
    {
      "cell_type": "code",
      "source": [
        "%sql UPDATE financial_details SET fee_cleared = true WHERE stud_ID = \"stud111\";"
      ],
      "metadata": {
        "colab": {
          "base_uri": "https://localhost:8080/"
        },
        "id": "NGLCwgKTeocw",
        "outputId": "3c11f86a-27d8-4b6b-91ca-1697dab48369"
      },
      "execution_count": 49,
      "outputs": [
        {
          "output_type": "stream",
          "name": "stdout",
          "text": [
            " * sqlite:///stud_db.db\n",
            "1 rows affected.\n"
          ]
        },
        {
          "output_type": "execute_result",
          "data": {
            "text/plain": [
              "[]"
            ]
          },
          "metadata": {},
          "execution_count": 49
        }
      ]
    },
    {
      "cell_type": "code",
      "source": [
        "%sql UPDATE financial_details SET fee_cleared = true WHERE stud_ID = \"stud114\";"
      ],
      "metadata": {
        "colab": {
          "base_uri": "https://localhost:8080/"
        },
        "id": "bo6tKii6eoTo",
        "outputId": "0ffd9846-c229-4622-c74b-95534cbed44f"
      },
      "execution_count": 50,
      "outputs": [
        {
          "output_type": "stream",
          "name": "stdout",
          "text": [
            " * sqlite:///stud_db.db\n",
            "1 rows affected.\n"
          ]
        },
        {
          "output_type": "execute_result",
          "data": {
            "text/plain": [
              "[]"
            ]
          },
          "metadata": {},
          "execution_count": 50
        }
      ]
    },
    {
      "cell_type": "code",
      "source": [
        "%sql UPDATE financial_details SET fee_cleared = true WHERE stud_ID = \"stud115\";"
      ],
      "metadata": {
        "colab": {
          "base_uri": "https://localhost:8080/"
        },
        "id": "-zCoq8BVeoKC",
        "outputId": "e83d795b-1fa5-46e9-e609-3fa7383ff6cc"
      },
      "execution_count": 51,
      "outputs": [
        {
          "output_type": "stream",
          "name": "stdout",
          "text": [
            " * sqlite:///stud_db.db\n",
            "1 rows affected.\n"
          ]
        },
        {
          "output_type": "execute_result",
          "data": {
            "text/plain": [
              "[]"
            ]
          },
          "metadata": {},
          "execution_count": 51
        }
      ]
    },
    {
      "cell_type": "code",
      "source": [
        "%%sql SELECT personal_details.national_ID, financial_details.stud_name FROM personal_details INNER join financial_details ON personal_details.stud_ID = financial_details.stud_ID;"
      ],
      "metadata": {
        "colab": {
          "base_uri": "https://localhost:8080/",
          "height": 386
        },
        "id": "d5i7lnomI7cu",
        "outputId": "67712225-522e-49e1-cc03-2bd9321bb2f5"
      },
      "execution_count": 52,
      "outputs": [
        {
          "output_type": "stream",
          "name": "stdout",
          "text": [
            " * sqlite:///stud_db.db\n",
            "Done.\n"
          ]
        },
        {
          "output_type": "execute_result",
          "data": {
            "text/plain": [
              "[(344534, 'Hermione Granger'),\n",
              " (379683, 'Draco Malfo'),\n",
              " (347403, 'Jayden Wamashati'),\n",
              " (377302, 'Ron Weasley'),\n",
              " (336741, 'Dolores Umbridge'),\n",
              " (307243, 'Hedwig Tonks'),\n",
              " (310932, 'Chao Chang'),\n",
              " (343920, 'Curfew Yaeitpm'),\n",
              " (345261, 'Chaptr Mukenya'),\n",
              " (339152, 'Natalie Mpema'),\n",
              " (339746, 'Crew Nundi'),\n",
              " (336373, 'Bandi Kagunda'),\n",
              " (325252, 'Testimony Omolo'),\n",
              " (321746, 'Career Mpya'),\n",
              " (390234, 'Deamon Anduro')]"
            ],
            "text/html": [
              "<table>\n",
              "    <thead>\n",
              "        <tr>\n",
              "            <th>national_ID</th>\n",
              "            <th>stud_name</th>\n",
              "        </tr>\n",
              "    </thead>\n",
              "    <tbody>\n",
              "        <tr>\n",
              "            <td>344534</td>\n",
              "            <td>Hermione Granger</td>\n",
              "        </tr>\n",
              "        <tr>\n",
              "            <td>379683</td>\n",
              "            <td>Draco Malfo</td>\n",
              "        </tr>\n",
              "        <tr>\n",
              "            <td>347403</td>\n",
              "            <td>Jayden Wamashati</td>\n",
              "        </tr>\n",
              "        <tr>\n",
              "            <td>377302</td>\n",
              "            <td>Ron Weasley</td>\n",
              "        </tr>\n",
              "        <tr>\n",
              "            <td>336741</td>\n",
              "            <td>Dolores Umbridge</td>\n",
              "        </tr>\n",
              "        <tr>\n",
              "            <td>307243</td>\n",
              "            <td>Hedwig Tonks</td>\n",
              "        </tr>\n",
              "        <tr>\n",
              "            <td>310932</td>\n",
              "            <td>Chao Chang</td>\n",
              "        </tr>\n",
              "        <tr>\n",
              "            <td>343920</td>\n",
              "            <td>Curfew Yaeitpm</td>\n",
              "        </tr>\n",
              "        <tr>\n",
              "            <td>345261</td>\n",
              "            <td>Chaptr Mukenya</td>\n",
              "        </tr>\n",
              "        <tr>\n",
              "            <td>339152</td>\n",
              "            <td>Natalie Mpema</td>\n",
              "        </tr>\n",
              "        <tr>\n",
              "            <td>339746</td>\n",
              "            <td>Crew Nundi</td>\n",
              "        </tr>\n",
              "        <tr>\n",
              "            <td>336373</td>\n",
              "            <td>Bandi Kagunda</td>\n",
              "        </tr>\n",
              "        <tr>\n",
              "            <td>325252</td>\n",
              "            <td>Testimony Omolo</td>\n",
              "        </tr>\n",
              "        <tr>\n",
              "            <td>321746</td>\n",
              "            <td>Career Mpya</td>\n",
              "        </tr>\n",
              "        <tr>\n",
              "            <td>390234</td>\n",
              "            <td>Deamon Anduro</td>\n",
              "        </tr>\n",
              "    </tbody>\n",
              "</table>"
            ]
          },
          "metadata": {},
          "execution_count": 52
        }
      ]
    },
    {
      "cell_type": "code",
      "source": [
        "%%sql SELECT personal_details.national_ID, financial_details.stud_name FROM personal_details INNER JOIN financial_details ON personal_details.stud_ID = financial_details.stud_ID\n",
        "where fee_cleared = true;"
      ],
      "metadata": {
        "colab": {
          "base_uri": "https://localhost:8080/",
          "height": 220
        },
        "id": "JyFdJKLUKKZK",
        "outputId": "39ed62b9-7970-4572-98e4-1819369660d4"
      },
      "execution_count": 53,
      "outputs": [
        {
          "output_type": "stream",
          "name": "stdout",
          "text": [
            " * sqlite:///stud_db.db\n",
            "Done.\n"
          ]
        },
        {
          "output_type": "execute_result",
          "data": {
            "text/plain": [
              "[(344534, 'Hermione Granger'),\n",
              " (377302, 'Ron Weasley'),\n",
              " (307243, 'Hedwig Tonks'),\n",
              " (339152, 'Natalie Mpema'),\n",
              " (339746, 'Crew Nundi'),\n",
              " (321746, 'Career Mpya'),\n",
              " (390234, 'Deamon Anduro')]"
            ],
            "text/html": [
              "<table>\n",
              "    <thead>\n",
              "        <tr>\n",
              "            <th>national_ID</th>\n",
              "            <th>stud_name</th>\n",
              "        </tr>\n",
              "    </thead>\n",
              "    <tbody>\n",
              "        <tr>\n",
              "            <td>344534</td>\n",
              "            <td>Hermione Granger</td>\n",
              "        </tr>\n",
              "        <tr>\n",
              "            <td>377302</td>\n",
              "            <td>Ron Weasley</td>\n",
              "        </tr>\n",
              "        <tr>\n",
              "            <td>307243</td>\n",
              "            <td>Hedwig Tonks</td>\n",
              "        </tr>\n",
              "        <tr>\n",
              "            <td>339152</td>\n",
              "            <td>Natalie Mpema</td>\n",
              "        </tr>\n",
              "        <tr>\n",
              "            <td>339746</td>\n",
              "            <td>Crew Nundi</td>\n",
              "        </tr>\n",
              "        <tr>\n",
              "            <td>321746</td>\n",
              "            <td>Career Mpya</td>\n",
              "        </tr>\n",
              "        <tr>\n",
              "            <td>390234</td>\n",
              "            <td>Deamon Anduro</td>\n",
              "        </tr>\n",
              "    </tbody>\n",
              "</table>"
            ]
          },
          "metadata": {},
          "execution_count": 53
        }
      ]
    },
    {
      "cell_type": "code",
      "source": [
        "%sql SELECT SUM(fee_paid) AS Total_fee FROM financial_details;"
      ],
      "metadata": {
        "colab": {
          "base_uri": "https://localhost:8080/",
          "height": 95
        },
        "id": "079ELFdYfmtw",
        "outputId": "be063a1a-5911-42d9-e981-d3babc4efb7b"
      },
      "execution_count": 54,
      "outputs": [
        {
          "output_type": "stream",
          "name": "stdout",
          "text": [
            " * sqlite:///stud_db.db\n",
            "Done.\n"
          ]
        },
        {
          "output_type": "execute_result",
          "data": {
            "text/plain": [
              "[(339600,)]"
            ],
            "text/html": [
              "<table>\n",
              "    <thead>\n",
              "        <tr>\n",
              "            <th>Total_fee</th>\n",
              "        </tr>\n",
              "    </thead>\n",
              "    <tbody>\n",
              "        <tr>\n",
              "            <td>339600</td>\n",
              "        </tr>\n",
              "    </tbody>\n",
              "</table>"
            ]
          },
          "metadata": {},
          "execution_count": 54
        }
      ]
    },
    {
      "cell_type": "code",
      "source": [
        "%sql SELECT (SUM(sem_fee)- SUM(fee_paid)) AS total_fee_balance FROM financial_details;"
      ],
      "metadata": {
        "colab": {
          "base_uri": "https://localhost:8080/",
          "height": 95
        },
        "id": "GRqfvYh8hqov",
        "outputId": "025e5413-9e7c-464d-c689-faf90b3e2adb"
      },
      "execution_count": 55,
      "outputs": [
        {
          "output_type": "stream",
          "name": "stdout",
          "text": [
            " * sqlite:///stud_db.db\n",
            "Done.\n"
          ]
        },
        {
          "output_type": "execute_result",
          "data": {
            "text/plain": [
              "[(19330,)]"
            ],
            "text/html": [
              "<table>\n",
              "    <thead>\n",
              "        <tr>\n",
              "            <th>total_fee_balance</th>\n",
              "        </tr>\n",
              "    </thead>\n",
              "    <tbody>\n",
              "        <tr>\n",
              "            <td>19330</td>\n",
              "        </tr>\n",
              "    </tbody>\n",
              "</table>"
            ]
          },
          "metadata": {},
          "execution_count": 55
        }
      ]
    },
    {
      "cell_type": "code",
      "source": [
        "%%sql SELECT * FROM school_details;"
      ],
      "metadata": {
        "colab": {
          "base_uri": "https://localhost:8080/",
          "height": 386
        },
        "id": "1cc2OCDniWro",
        "outputId": "357912bb-7d3e-46c8-bfe9-3e72bce0beda"
      },
      "execution_count": 56,
      "outputs": [
        {
          "output_type": "stream",
          "name": "stdout",
          "text": [
            " * sqlite:///stud_db.db\n",
            "Done.\n"
          ]
        },
        {
          "output_type": "execute_result",
          "data": {
            "text/plain": [
              "[('stud101', 'Nakuru', 'Nairobi', 'In school', 'HermioneGranger@zinduaschool.ac'),\n",
              " ('stud102', 'Nairobi', 'Nakuru', 'In school', 'DracoMalfo@zinduaschool.ac'),\n",
              " ('stud103', 'Samburu', 'Nairobi', 'Out of school', 'JaydenWamashati@zinduaschool.ac'),\n",
              " ('stud104', 'Kericho', 'Nairobi', 'In school', 'RonWeasley@zinduaschool.ac'),\n",
              " ('stud105', 'Nyamira', 'Nakuru', 'In school', 'DoloresUmbridge@zinduaschool.ac'),\n",
              " ('stud106', 'Kisumu', 'Nairobi', 'Out of school', 'HedwigTonks@zinduaschool.ac'),\n",
              " ('stud107', 'Nakuru', 'Nairobi', 'Out of school', 'ChaoChang@zinduaschool.ac'),\n",
              " ('stud108', 'Kisumu', 'Mombasa', 'Out of school', 'CurfewYaeitpm@zinduaschool.ac'),\n",
              " ('stud109', 'Kericho', 'Mombasa', 'In school', 'ChaptrMukenya@zinduaschool.ac'),\n",
              " ('stud110', 'Nakuru', 'Mombasa', 'In school', 'NatalieMpema@zinduaschool.ac'),\n",
              " ('stud111', 'Kiambu', 'Turkana', 'In school', 'CrewNundi@zinduaschool.ac'),\n",
              " ('stud112', 'Nairobi', 'Nakuru', 'In school', 'BandiKagunda@zinduaschool.ac'),\n",
              " ('stud113', 'Samburu', 'Taita Taveta', 'In school', 'TestimonyOmolo@zinduaschool.ac'),\n",
              " ('stud114', 'Kericho', 'Nairobi', 'Out of school', 'CareerMpya@zinduaschool.ac'),\n",
              " ('stud115', 'Kiambu', 'Mombasa', 'In school', 'DeamonAnduro@zinduaschool.ac')]"
            ],
            "text/html": [
              "<table>\n",
              "    <thead>\n",
              "        <tr>\n",
              "            <th>stud_ID</th>\n",
              "            <th>current_home_county</th>\n",
              "            <th>secondary_school_county</th>\n",
              "            <th>residence</th>\n",
              "            <th>stud_email</th>\n",
              "        </tr>\n",
              "    </thead>\n",
              "    <tbody>\n",
              "        <tr>\n",
              "            <td>stud101</td>\n",
              "            <td>Nakuru</td>\n",
              "            <td>Nairobi</td>\n",
              "            <td>In school</td>\n",
              "            <td>HermioneGranger@zinduaschool.ac</td>\n",
              "        </tr>\n",
              "        <tr>\n",
              "            <td>stud102</td>\n",
              "            <td>Nairobi</td>\n",
              "            <td>Nakuru</td>\n",
              "            <td>In school</td>\n",
              "            <td>DracoMalfo@zinduaschool.ac</td>\n",
              "        </tr>\n",
              "        <tr>\n",
              "            <td>stud103</td>\n",
              "            <td>Samburu</td>\n",
              "            <td>Nairobi</td>\n",
              "            <td>Out of school</td>\n",
              "            <td>JaydenWamashati@zinduaschool.ac</td>\n",
              "        </tr>\n",
              "        <tr>\n",
              "            <td>stud104</td>\n",
              "            <td>Kericho</td>\n",
              "            <td>Nairobi</td>\n",
              "            <td>In school</td>\n",
              "            <td>RonWeasley@zinduaschool.ac</td>\n",
              "        </tr>\n",
              "        <tr>\n",
              "            <td>stud105</td>\n",
              "            <td>Nyamira</td>\n",
              "            <td>Nakuru</td>\n",
              "            <td>In school</td>\n",
              "            <td>DoloresUmbridge@zinduaschool.ac</td>\n",
              "        </tr>\n",
              "        <tr>\n",
              "            <td>stud106</td>\n",
              "            <td>Kisumu</td>\n",
              "            <td>Nairobi</td>\n",
              "            <td>Out of school</td>\n",
              "            <td>HedwigTonks@zinduaschool.ac</td>\n",
              "        </tr>\n",
              "        <tr>\n",
              "            <td>stud107</td>\n",
              "            <td>Nakuru</td>\n",
              "            <td>Nairobi</td>\n",
              "            <td>Out of school</td>\n",
              "            <td>ChaoChang@zinduaschool.ac</td>\n",
              "        </tr>\n",
              "        <tr>\n",
              "            <td>stud108</td>\n",
              "            <td>Kisumu</td>\n",
              "            <td>Mombasa</td>\n",
              "            <td>Out of school</td>\n",
              "            <td>CurfewYaeitpm@zinduaschool.ac</td>\n",
              "        </tr>\n",
              "        <tr>\n",
              "            <td>stud109</td>\n",
              "            <td>Kericho</td>\n",
              "            <td>Mombasa</td>\n",
              "            <td>In school</td>\n",
              "            <td>ChaptrMukenya@zinduaschool.ac</td>\n",
              "        </tr>\n",
              "        <tr>\n",
              "            <td>stud110</td>\n",
              "            <td>Nakuru</td>\n",
              "            <td>Mombasa</td>\n",
              "            <td>In school</td>\n",
              "            <td>NatalieMpema@zinduaschool.ac</td>\n",
              "        </tr>\n",
              "        <tr>\n",
              "            <td>stud111</td>\n",
              "            <td>Kiambu</td>\n",
              "            <td>Turkana</td>\n",
              "            <td>In school</td>\n",
              "            <td>CrewNundi@zinduaschool.ac</td>\n",
              "        </tr>\n",
              "        <tr>\n",
              "            <td>stud112</td>\n",
              "            <td>Nairobi</td>\n",
              "            <td>Nakuru</td>\n",
              "            <td>In school</td>\n",
              "            <td>BandiKagunda@zinduaschool.ac</td>\n",
              "        </tr>\n",
              "        <tr>\n",
              "            <td>stud113</td>\n",
              "            <td>Samburu</td>\n",
              "            <td>Taita Taveta</td>\n",
              "            <td>In school</td>\n",
              "            <td>TestimonyOmolo@zinduaschool.ac</td>\n",
              "        </tr>\n",
              "        <tr>\n",
              "            <td>stud114</td>\n",
              "            <td>Kericho</td>\n",
              "            <td>Nairobi</td>\n",
              "            <td>Out of school</td>\n",
              "            <td>CareerMpya@zinduaschool.ac</td>\n",
              "        </tr>\n",
              "        <tr>\n",
              "            <td>stud115</td>\n",
              "            <td>Kiambu</td>\n",
              "            <td>Mombasa</td>\n",
              "            <td>In school</td>\n",
              "            <td>DeamonAnduro@zinduaschool.ac</td>\n",
              "        </tr>\n",
              "    </tbody>\n",
              "</table>"
            ]
          },
          "metadata": {},
          "execution_count": 56
        }
      ]
    },
    {
      "cell_type": "code",
      "source": [
        "%%sql SELECT COUNT(*) AS Nairobi_county_students\n",
        "from school_details where current_home_county = \"Nairobi\";"
      ],
      "metadata": {
        "colab": {
          "base_uri": "https://localhost:8080/",
          "height": 95
        },
        "id": "hwVEXRjpjuWY",
        "outputId": "73f2af24-5f3b-43de-8186-b20081d65511"
      },
      "execution_count": 57,
      "outputs": [
        {
          "output_type": "stream",
          "name": "stdout",
          "text": [
            " * sqlite:///stud_db.db\n",
            "Done.\n"
          ]
        },
        {
          "output_type": "execute_result",
          "data": {
            "text/plain": [
              "[(2,)]"
            ],
            "text/html": [
              "<table>\n",
              "    <thead>\n",
              "        <tr>\n",
              "            <th>Nairobi_county_students</th>\n",
              "        </tr>\n",
              "    </thead>\n",
              "    <tbody>\n",
              "        <tr>\n",
              "            <td>2</td>\n",
              "        </tr>\n",
              "    </tbody>\n",
              "</table>"
            ]
          },
          "metadata": {},
          "execution_count": 57
        }
      ]
    },
    {
      "cell_type": "code",
      "source": [
        "%%sql SELECT COUNT(*) AS Nakuru_county_students\n",
        "from school_details where current_home_county = \"Nakuru\";"
      ],
      "metadata": {
        "colab": {
          "base_uri": "https://localhost:8080/",
          "height": 95
        },
        "id": "_R7UGZvwkc5K",
        "outputId": "fcc636b6-786e-45cc-d8b8-344106842703"
      },
      "execution_count": 58,
      "outputs": [
        {
          "output_type": "stream",
          "name": "stdout",
          "text": [
            " * sqlite:///stud_db.db\n",
            "Done.\n"
          ]
        },
        {
          "output_type": "execute_result",
          "data": {
            "text/plain": [
              "[(3,)]"
            ],
            "text/html": [
              "<table>\n",
              "    <thead>\n",
              "        <tr>\n",
              "            <th>Nakuru_county_students</th>\n",
              "        </tr>\n",
              "    </thead>\n",
              "    <tbody>\n",
              "        <tr>\n",
              "            <td>3</td>\n",
              "        </tr>\n",
              "    </tbody>\n",
              "</table>"
            ]
          },
          "metadata": {},
          "execution_count": 58
        }
      ]
    },
    {
      "cell_type": "code",
      "source": [
        "%%sql SELECT COUNT(*) AS Samburu_county_students\n",
        "from school_details where current_home_county = \"Samburu\";"
      ],
      "metadata": {
        "colab": {
          "base_uri": "https://localhost:8080/",
          "height": 95
        },
        "id": "BBq6uNt5kveI",
        "outputId": "e654f83b-578e-4f15-c30d-5f40bcde5293"
      },
      "execution_count": 59,
      "outputs": [
        {
          "output_type": "stream",
          "name": "stdout",
          "text": [
            " * sqlite:///stud_db.db\n",
            "Done.\n"
          ]
        },
        {
          "output_type": "execute_result",
          "data": {
            "text/plain": [
              "[(2,)]"
            ],
            "text/html": [
              "<table>\n",
              "    <thead>\n",
              "        <tr>\n",
              "            <th>Samburu_county_students</th>\n",
              "        </tr>\n",
              "    </thead>\n",
              "    <tbody>\n",
              "        <tr>\n",
              "            <td>2</td>\n",
              "        </tr>\n",
              "    </tbody>\n",
              "</table>"
            ]
          },
          "metadata": {},
          "execution_count": 59
        }
      ]
    },
    {
      "cell_type": "code",
      "source": [
        "%%sql SELECT COUNT(*) AS Kisumu_county_students\n",
        "from school_details where current_home_county = \"Kisumu\";"
      ],
      "metadata": {
        "colab": {
          "base_uri": "https://localhost:8080/",
          "height": 95
        },
        "id": "VZ5J7xA0kzqE",
        "outputId": "7e8e6cf0-e21f-4571-a16c-15b354331a80"
      },
      "execution_count": 60,
      "outputs": [
        {
          "output_type": "stream",
          "name": "stdout",
          "text": [
            " * sqlite:///stud_db.db\n",
            "Done.\n"
          ]
        },
        {
          "output_type": "execute_result",
          "data": {
            "text/plain": [
              "[(2,)]"
            ],
            "text/html": [
              "<table>\n",
              "    <thead>\n",
              "        <tr>\n",
              "            <th>Kisumu_county_students</th>\n",
              "        </tr>\n",
              "    </thead>\n",
              "    <tbody>\n",
              "        <tr>\n",
              "            <td>2</td>\n",
              "        </tr>\n",
              "    </tbody>\n",
              "</table>"
            ]
          },
          "metadata": {},
          "execution_count": 60
        }
      ]
    },
    {
      "cell_type": "code",
      "source": [
        "%%sql SELECT COUNT(*) AS Nyamira_county_students\n",
        "from school_details where current_home_county = \"Nyamira\";"
      ],
      "metadata": {
        "colab": {
          "base_uri": "https://localhost:8080/",
          "height": 95
        },
        "id": "abz6jEeSk3Ef",
        "outputId": "bf0fdd5b-4677-40fd-86c1-6c57e930058b"
      },
      "execution_count": 61,
      "outputs": [
        {
          "output_type": "stream",
          "name": "stdout",
          "text": [
            " * sqlite:///stud_db.db\n",
            "Done.\n"
          ]
        },
        {
          "output_type": "execute_result",
          "data": {
            "text/plain": [
              "[(1,)]"
            ],
            "text/html": [
              "<table>\n",
              "    <thead>\n",
              "        <tr>\n",
              "            <th>Nyamira_county_students</th>\n",
              "        </tr>\n",
              "    </thead>\n",
              "    <tbody>\n",
              "        <tr>\n",
              "            <td>1</td>\n",
              "        </tr>\n",
              "    </tbody>\n",
              "</table>"
            ]
          },
          "metadata": {},
          "execution_count": 61
        }
      ]
    },
    {
      "cell_type": "code",
      "source": [
        "%%sql SELECT COUNT(*) AS Kericho_county_students\n",
        "from school_details where current_home_county = \"Kericho\";"
      ],
      "metadata": {
        "colab": {
          "base_uri": "https://localhost:8080/",
          "height": 95
        },
        "id": "feksDKmIk6Iw",
        "outputId": "6fc68a59-6d41-4fdf-9e04-5a689b7db2a0"
      },
      "execution_count": 62,
      "outputs": [
        {
          "output_type": "stream",
          "name": "stdout",
          "text": [
            " * sqlite:///stud_db.db\n",
            "Done.\n"
          ]
        },
        {
          "output_type": "execute_result",
          "data": {
            "text/plain": [
              "[(3,)]"
            ],
            "text/html": [
              "<table>\n",
              "    <thead>\n",
              "        <tr>\n",
              "            <th>Kericho_county_students</th>\n",
              "        </tr>\n",
              "    </thead>\n",
              "    <tbody>\n",
              "        <tr>\n",
              "            <td>3</td>\n",
              "        </tr>\n",
              "    </tbody>\n",
              "</table>"
            ]
          },
          "metadata": {},
          "execution_count": 62
        }
      ]
    },
    {
      "cell_type": "code",
      "source": [
        "%%sql SELECT COUNT(*) AS Kiambu_county_students\n",
        "from school_details where current_home_county = \"Kiambu\";"
      ],
      "metadata": {
        "colab": {
          "base_uri": "https://localhost:8080/",
          "height": 95
        },
        "id": "nBTcoHbplPFO",
        "outputId": "10e4c07a-71f0-4d4d-a091-004e9dd0affb"
      },
      "execution_count": 63,
      "outputs": [
        {
          "output_type": "stream",
          "name": "stdout",
          "text": [
            " * sqlite:///stud_db.db\n",
            "Done.\n"
          ]
        },
        {
          "output_type": "execute_result",
          "data": {
            "text/plain": [
              "[(2,)]"
            ],
            "text/html": [
              "<table>\n",
              "    <thead>\n",
              "        <tr>\n",
              "            <th>Kiambu_county_students</th>\n",
              "        </tr>\n",
              "    </thead>\n",
              "    <tbody>\n",
              "        <tr>\n",
              "            <td>2</td>\n",
              "        </tr>\n",
              "    </tbody>\n",
              "</table>"
            ]
          },
          "metadata": {},
          "execution_count": 63
        }
      ]
    },
    {
      "cell_type": "code",
      "source": [
        "%%sql SELECT personal_details.gender, school_details.secondary_school_county\n",
        "FROM personal_details INNER JOIN school_details ON personal_details.stud_ID = school_details.stud_ID;"
      ],
      "metadata": {
        "colab": {
          "base_uri": "https://localhost:8080/",
          "height": 386
        },
        "id": "1rQbM7momaCQ",
        "outputId": "6a76f01a-9ef9-4f0f-d522-0942a0572947"
      },
      "execution_count": 64,
      "outputs": [
        {
          "output_type": "stream",
          "name": "stdout",
          "text": [
            " * sqlite:///stud_db.db\n",
            "Done.\n"
          ]
        },
        {
          "output_type": "execute_result",
          "data": {
            "text/plain": [
              "[('Male', 'Nairobi'),\n",
              " ('Female', 'Nakuru'),\n",
              " ('Male', 'Nairobi'),\n",
              " ('Female', 'Nairobi'),\n",
              " ('Male', 'Nakuru'),\n",
              " ('Female', 'Nairobi'),\n",
              " ('Male', 'Nairobi'),\n",
              " ('Female', 'Mombasa'),\n",
              " ('Male', 'Mombasa'),\n",
              " ('Female', 'Mombasa'),\n",
              " ('Male', 'Turkana'),\n",
              " ('Female', 'Nakuru'),\n",
              " ('Male', 'Taita Taveta'),\n",
              " ('Male', 'Nairobi'),\n",
              " ('Female', 'Mombasa')]"
            ],
            "text/html": [
              "<table>\n",
              "    <thead>\n",
              "        <tr>\n",
              "            <th>gender</th>\n",
              "            <th>secondary_school_county</th>\n",
              "        </tr>\n",
              "    </thead>\n",
              "    <tbody>\n",
              "        <tr>\n",
              "            <td>Male</td>\n",
              "            <td>Nairobi</td>\n",
              "        </tr>\n",
              "        <tr>\n",
              "            <td>Female</td>\n",
              "            <td>Nakuru</td>\n",
              "        </tr>\n",
              "        <tr>\n",
              "            <td>Male</td>\n",
              "            <td>Nairobi</td>\n",
              "        </tr>\n",
              "        <tr>\n",
              "            <td>Female</td>\n",
              "            <td>Nairobi</td>\n",
              "        </tr>\n",
              "        <tr>\n",
              "            <td>Male</td>\n",
              "            <td>Nakuru</td>\n",
              "        </tr>\n",
              "        <tr>\n",
              "            <td>Female</td>\n",
              "            <td>Nairobi</td>\n",
              "        </tr>\n",
              "        <tr>\n",
              "            <td>Male</td>\n",
              "            <td>Nairobi</td>\n",
              "        </tr>\n",
              "        <tr>\n",
              "            <td>Female</td>\n",
              "            <td>Mombasa</td>\n",
              "        </tr>\n",
              "        <tr>\n",
              "            <td>Male</td>\n",
              "            <td>Mombasa</td>\n",
              "        </tr>\n",
              "        <tr>\n",
              "            <td>Female</td>\n",
              "            <td>Mombasa</td>\n",
              "        </tr>\n",
              "        <tr>\n",
              "            <td>Male</td>\n",
              "            <td>Turkana</td>\n",
              "        </tr>\n",
              "        <tr>\n",
              "            <td>Female</td>\n",
              "            <td>Nakuru</td>\n",
              "        </tr>\n",
              "        <tr>\n",
              "            <td>Male</td>\n",
              "            <td>Taita Taveta</td>\n",
              "        </tr>\n",
              "        <tr>\n",
              "            <td>Male</td>\n",
              "            <td>Nairobi</td>\n",
              "        </tr>\n",
              "        <tr>\n",
              "            <td>Female</td>\n",
              "            <td>Mombasa</td>\n",
              "        </tr>\n",
              "    </tbody>\n",
              "</table>"
            ]
          },
          "metadata": {},
          "execution_count": 64
        }
      ]
    },
    {
      "cell_type": "markdown",
      "source": [
        "**Assist in categorizing the gender and secondary school county!!**"
      ],
      "metadata": {
        "id": "bJ2Eh7Arx_4Y"
      }
    }
  ]
}